{
 "cells": [
  {
   "cell_type": "code",
   "execution_count": null,
   "metadata": {
    "collapsed": true
   },
   "outputs": [],
   "source": [
    "from numpy import NAN\n",
    "from bokeh.plotting import figure, output_file, show\n",
    "from bokeh.models import  ColumnDataSource, Patches, TapTool\n",
    "from bokeh.io import output_file\n",
    "\n",
    "TOOLS=\"pan,wheel_zoom,box_zoom,reset,tap\"\n",
    "\n",
    "p = figure(width=600, height=300, tools=TOOLS)\n",
    "\n",
    "output_file(\"tap2.html\")\n",
    "\n",
    "(x, y) = ([[0, 1, 1, 0, NAN, 2, 3, 3, 2], [4, 5, 5, 4, NAN, 6, 7, 7, 6]], \n",
    "          [[0, 0, 1, 1, NAN, 2, 2, 3, 3], [2, 2, 3, 3, NAN, 1, 1, 2, 2]])\n",
    "\n",
    "source = ColumnDataSource(  {\n",
    "        'xs': x,\n",
    "        'ys': y,\n",
    "        'colors' : ['firebrick', 'steelblue']\n",
    "    })\n",
    "\n",
    "invisible_patches = Patches(xs='xs', ys='ys', fill_color='gray', fill_alpha=0.05, line_color=None)\n",
    "visible_patches = Patches(xs='xs', ys='ys', fill_color='colors', fill_alpha=0.7, line_color=None)\n",
    "\n",
    "p.add_glyph(source, visible_patches)\n",
    "\n",
    "show(p)"
   ]
  }
 ],
 "metadata": {
  "kernelspec": {
   "display_name": "Python 3",
   "language": "python",
   "name": "python3"
  },
  "language_info": {
   "codemirror_mode": {
    "name": "ipython",
    "version": 3
   },
   "file_extension": ".py",
   "mimetype": "text/x-python",
   "name": "python",
   "nbconvert_exporter": "python",
   "pygments_lexer": "ipython3",
   "version": "3.4.3"
  }
 },
 "nbformat": 4,
 "nbformat_minor": 0
}
